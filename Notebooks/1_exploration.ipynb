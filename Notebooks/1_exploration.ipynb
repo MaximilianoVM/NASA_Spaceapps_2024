{
 "cells": [
  {
   "cell_type": "code",
   "execution_count": 1,
   "metadata": {},
   "outputs": [
    {
     "name": "stderr",
     "output_type": "stream",
     "text": [
      "/usr/lib/python3/dist-packages/scipy/__init__.py:146: UserWarning: A NumPy version >=1.17.3 and <1.25.0 is required for this version of SciPy (detected version 1.26.4\n",
      "  warnings.warn(f\"A NumPy version >={np_minversion} and <{np_maxversion}\"\n"
     ]
    }
   ],
   "source": [
    "import pandas as pd\n",
    "import numpy as np\n",
    "import matplotlib.pyplot as plt\n",
    "import seaborn as sns"
   ]
  },
  {
   "cell_type": "markdown",
   "metadata": {},
   "source": [
    "# Exploracion de datos"
   ]
  },
  {
   "cell_type": "code",
   "execution_count": 2,
   "metadata": {},
   "outputs": [],
   "source": [
    "# CAMBIAR, HACER RELATIVOS NO SE COMO\n",
    "# Mientras poner tu propia ruta\n",
    "PATH = '/home/max/workspace/NASA_Spaceapps_2024/hello_flask/data/DEF_SRDB_V5_1827_5-20241005_212220/srdb-data-V5.csv'\n",
    "RELATIVE_PATH = 'hello_flask/data/DEF_SRDB_V5_1827_5-20241005_212220/srdb-data-V5.csv'\n",
    "DATADIR_PATH = '/home/max/workspace/NASA_Spaceapps_2024/hello_flask/data'\n",
    "\n",
    "to_keep = [\n",
    "    'Entry_date', \n",
    "    'Quality_flag', \n",
    "    'Country', \n",
    "    'Region', \n",
    "    'Site_name', \n",
    "    'Site_ID', \n",
    "    'Study_midyear', \n",
    "    'Species', \n",
    "    'Biome', \n",
    "    'Ecosystem_type',\n",
    "    'Leaf_habit', \n",
    "    'Soil_type', \n",
    "    'Soil_drainage', \n",
    "    'MAT', \n",
    "    'MAP', \n",
    "    'PET', \n",
    "    'Study_temp', \n",
    "    'Study_precip'\n",
    "]\n",
    "\n",
    "to_drop = [\n",
    "    'Entry_date',\n",
    "    'Quality_flag',\n",
    "    'Ecosystem_type', \n",
    "    'Soil_type', \n",
    "    'PET', \n",
    "    'Study_temp', \n",
    "    'Study_precip', \n",
    "    'Site_ID'\n",
    "]\n",
    "\n",
    "# Leer el archivo CSV y seleccionar solo las columnas especificadas\n",
    "df = pd.read_csv(PATH, usecols=to_keep, parse_dates=['Entry_date']).drop(columns=to_drop).dropna()\n",
    "\n",
    "# Reorganizar las columnas para que 'Study_midyear' sea la primera\n",
    "columns = ['Study_midyear'] + [col for col in df.columns if col != 'Study_midyear']\n",
    "df = df[columns]\n",
    "\n",
    "# Ordenar el DataFrame por 'Study_midyear'\n",
    "df = df.sort_values(by='Study_midyear').reset_index(drop=True)\n",
    "\n",
    "# Exportar los datos\n",
    "df.to_csv(DATADIR_PATH+'/Processed/1_clean_srdb-data-V5.csv', index=False)"
   ]
  },
  {
   "cell_type": "markdown",
   "metadata": {},
   "source": [
    "## dropNA ?????"
   ]
  },
  {
   "cell_type": "markdown",
   "metadata": {},
   "source": [
    "Cuantos paises tenemos?"
   ]
  },
  {
   "cell_type": "code",
   "execution_count": 34,
   "metadata": {},
   "outputs": [],
   "source": [
    "#df = df.dropna()"
   ]
  },
  {
   "cell_type": "code",
   "execution_count": 35,
   "metadata": {},
   "outputs": [
    {
     "data": {
      "text/plain": [
       "array(['USA', 'Congo', 'United Kingdom', 'Brazil', 'Canada', 'Venezuela',\n",
       "       'Japan', 'India', 'China', 'Turkey', 'Norway', 'Denmark',\n",
       "       'Thailand', 'Germany', 'UK', 'Belgium', 'Italy', 'Russia',\n",
       "       'Malawi', 'Finland', 'Ireland', 'Malaysia', 'Costa Rica',\n",
       "       'Australia', 'South Korea', 'Italy ', 'Czech Republic', 'Mexico',\n",
       "       'Spain', 'Philippines', 'Sweden', 'Panama', 'Indonesia', 'Poland',\n",
       "       'Isreal', 'Zambia', 'Argentina', 'New Zealand', 'Tunisia',\n",
       "       'Mongolia', 'Kenya', 'Peru', 'Switzerland', 'Greenland', 'Hungary',\n",
       "       'Taiwan', 'Cesko', 'France', 'Puerto Rico', 'Portugal', 'Vietnam',\n",
       "       'Singapore', 'Guinea', 'Netherlands', 'Bennin', 'Signapore',\n",
       "       'Zimbabwe', 'Czechia', 'Chile', 'Estonia', 'South Africa',\n",
       "       'Austria', 'Tanzania'], dtype=object)"
      ]
     },
     "execution_count": 35,
     "metadata": {},
     "output_type": "execute_result"
    }
   ],
   "source": [
    "df['Country'].unique()"
   ]
  },
  {
   "cell_type": "markdown",
   "metadata": {},
   "source": [
    "### Cuantas especies?"
   ]
  },
  {
   "cell_type": "code",
   "execution_count": 36,
   "metadata": {},
   "outputs": [
    {
     "data": {
      "text/plain": [
       "0                                          Pinus echinata\n",
       "1                                             Acer rubrum\n",
       "2                                                     Mix\n",
       "3                                            Quercus alba\n",
       "4                                      Thuja occidentalis\n",
       "                              ...                        \n",
       "1098                              Juniperus phoenaicea L.\n",
       "1099    Salix oritrepha, Spiraea alpina Pallas, Potent...\n",
       "1100                    Camelia sinensis var. sinensis L.\n",
       "1101                                        Sphagnum spp.\n",
       "1102                               Achnatherum hymenoides\n",
       "Length: 1103, dtype: object"
      ]
     },
     "execution_count": 36,
     "metadata": {},
     "output_type": "execute_result"
    }
   ],
   "source": [
    "species = []\n",
    "for spec in df['Species']: \n",
    "    #print(spec.split(';'))\n",
    "    species.extend(spec.split(';'))\n",
    "    \n",
    "species_unique = pd.Series(pd.Series(species).unique())\n",
    "\n",
    "species_unique\n"
   ]
  },
  {
   "cell_type": "markdown",
   "metadata": {},
   "source": [
    "## Especies de interes para agricultores\n",
    "\n",
    "* Oryza sativa - Arroz\n",
    "* Zea mays - Maíz\n",
    "* Triticum aestivum - Trigo\n",
    "* Glycine max - Soya\n",
    "* Solanum tuberosum - Papa"
   ]
  },
  {
   "cell_type": "code",
   "execution_count": 37,
   "metadata": {},
   "outputs": [
    {
     "data": {
      "text/plain": [
       "{'Triticum aestivum': 'Triticum aestivum',\n",
       " 'Pennisetum clandestinum': 'Triticum aestivum',\n",
       " 'Glycine max': 'Glycine max',\n",
       " 'Triticum aestivum, Zea mays subsp.': 'Triticum aestivum',\n",
       " 'Zea mays': 'Zea mays',\n",
       " ' Avena sativa': 'Oryza sativa',\n",
       " 'Oryza sativa': 'Oryza sativa',\n",
       " 'Zea mays subsp.': 'Zea mays',\n",
       " ' Zea mays': 'Zea mays',\n",
       " ' Protium sagotianum': 'Triticum aestivum',\n",
       " 'Protium sagotianum': 'Triticum aestivum',\n",
       " 'Zea mays, triticum aestivum': 'Triticum aestivum',\n",
       " 'Zea mays, Glycine max': 'Glycine max',\n",
       " ' Oryza sativa': 'Oryza sativa',\n",
       " ' Glycine max': 'Glycine max',\n",
       " ' Triticum aestivum': 'Triticum aestivum',\n",
       " 'Pisum sativum': 'Triticum aestivum',\n",
       " ' Pisum sativum': 'Triticum aestivum',\n",
       " 'Zea mays L.': 'Zea mays',\n",
       " 'Triticum, zea mays': 'Triticum aestivum',\n",
       " 'Sphagnum fuscum': 'Solanum tuberosum',\n",
       " 'Zea Mays L.': 'Zea mays',\n",
       " 'Oryza sativa, Brassica napus': 'Oryza sativa',\n",
       " 'Triticum aestivum, Zea mays': 'Triticum aestivum',\n",
       " 'Oryza sativa, zea mays': 'Oryza sativa',\n",
       " 'Triticum aestivum, Glycine max': 'Triticum aestivum',\n",
       " 'Triticum aestivum, Gossypium spp.': 'Triticum aestivum',\n",
       " 'Zea mays, Triticum': 'Zea mays'}"
      ]
     },
     "execution_count": 37,
     "metadata": {},
     "output_type": "execute_result"
    }
   ],
   "source": [
    "from difflib import get_close_matches\n",
    "\n",
    "cultivos = ['Oryza sativa', 'Zea mays', 'Triticum aestivum', 'Glycine max', 'Solanum tuberosum']\n",
    "matches = {}\n",
    "\n",
    "for species in species_unique:\n",
    "    match = get_close_matches(species, cultivos, n=1, cutoff=0.6)  # Coincidencias con un umbral de similitud\n",
    "    if match:\n",
    "        matches[species] = match[0]  # Guarda la especie del cultivo si hay coincidencia\n",
    "\n",
    "matches  # Ver las coincidencias encontradas\n"
   ]
  },
  {
   "cell_type": "markdown",
   "metadata": {},
   "source": [
    "traducimos en el dataframe"
   ]
  },
  {
   "cell_type": "code",
   "execution_count": 38,
   "metadata": {},
   "outputs": [
    {
     "data": {
      "text/plain": [
       "array(['Trigo', 'Soya', 'Maíz', 'Arroz'], dtype=object)"
      ]
     },
     "execution_count": 38,
     "metadata": {},
     "output_type": "execute_result"
    }
   ],
   "source": [
    "# Diccionario de traducción\n",
    "traducciones = {\n",
    "    'Oryza sativa': 'Arroz',\n",
    "    'Zea mays': 'Maíz',\n",
    "    'Triticum aestivum': 'Trigo',\n",
    "    'Glycine max': 'Soya',\n",
    "    'Solanum tuberosum': 'Papa'\n",
    "}\n",
    "\n",
    "# Función para aplicar la traducción\n",
    "def traducir_especies(cultivo):\n",
    "    for clave, valor in traducciones.items():\n",
    "        if clave in cultivo:\n",
    "            return valor\n",
    "    return cultivo  # Si no encuentra coincidencia, devuelve el nombre original\n",
    "\n",
    "# Aplicar la traducción a los valores del DataFrame\n",
    "#df['Species_traducida'] = df['Species'].apply(traducir_especies)\n",
    "\n",
    "# Ver el resultado\n",
    "#df[['Species', 'Species_traducida']]\n",
    "\n",
    "# Aplicar la traducción a los valores del DataFrame\n",
    "df['Species_traducida'] = df['Species'].apply(traducir_especies)\n",
    "\n",
    "# Filtrar las filas donde 'Species_traducida' es diferente de 'Species' (es decir, fue traducido)\n",
    "df_traducido = df[df['Species'] != df['Species_traducida']]\n",
    "\n",
    "# Ver el resultado final\n",
    "df_traducido[['Species', 'Species_traducida']]\n",
    "\n",
    "df_traducido['Species_traducida'].unique()"
   ]
  },
  {
   "cell_type": "markdown",
   "metadata": {},
   "source": [
    "cuantos datos tenemos de cada especie de interes?"
   ]
  },
  {
   "cell_type": "code",
   "execution_count": 39,
   "metadata": {},
   "outputs": [
    {
     "data": {
      "text/plain": [
       "Species_traducida\n",
       "Maíz     209\n",
       "Trigo    164\n",
       "Arroz     90\n",
       "Soya      80\n",
       "Name: count, dtype: int64"
      ]
     },
     "execution_count": 39,
     "metadata": {},
     "output_type": "execute_result"
    }
   ],
   "source": [
    "df_traducido['Species_traducida'].value_counts()"
   ]
  },
  {
   "cell_type": "markdown",
   "metadata": {},
   "source": [
    "## Agrupamiento (sin filtro de especie)"
   ]
  },
  {
   "cell_type": "code",
   "execution_count": 40,
   "metadata": {},
   "outputs": [
    {
     "data": {
      "text/html": [
       "<div>\n",
       "<style scoped>\n",
       "    .dataframe tbody tr th:only-of-type {\n",
       "        vertical-align: middle;\n",
       "    }\n",
       "\n",
       "    .dataframe tbody tr th {\n",
       "        vertical-align: top;\n",
       "    }\n",
       "\n",
       "    .dataframe thead th {\n",
       "        text-align: right;\n",
       "    }\n",
       "</style>\n",
       "<table border=\"1\" class=\"dataframe\">\n",
       "  <thead>\n",
       "    <tr style=\"text-align: right;\">\n",
       "      <th></th>\n",
       "      <th>Study_midyear</th>\n",
       "      <th>Country</th>\n",
       "      <th>Region</th>\n",
       "      <th>Site_name</th>\n",
       "      <th>Species</th>\n",
       "      <th>Biome</th>\n",
       "      <th>Leaf_habit</th>\n",
       "      <th>Soil_drainage</th>\n",
       "      <th>MAT</th>\n",
       "      <th>MAP</th>\n",
       "      <th>Species_traducida</th>\n",
       "    </tr>\n",
       "  </thead>\n",
       "  <tbody>\n",
       "    <tr>\n",
       "      <th>0</th>\n",
       "      <td>1961.0</td>\n",
       "      <td>USA</td>\n",
       "      <td>Tennessee</td>\n",
       "      <td>Oak Ridge</td>\n",
       "      <td>Pinus echinata</td>\n",
       "      <td>Temperate</td>\n",
       "      <td>Evergreen</td>\n",
       "      <td>Dry</td>\n",
       "      <td>14.0</td>\n",
       "      <td>1500.0</td>\n",
       "      <td>Pinus echinata</td>\n",
       "    </tr>\n",
       "    <tr>\n",
       "      <th>1</th>\n",
       "      <td>1961.0</td>\n",
       "      <td>USA</td>\n",
       "      <td>Tennessee</td>\n",
       "      <td>Oak Ridge</td>\n",
       "      <td>Acer rubrum</td>\n",
       "      <td>Temperate</td>\n",
       "      <td>Deciduous</td>\n",
       "      <td>Dry</td>\n",
       "      <td>14.0</td>\n",
       "      <td>1500.0</td>\n",
       "      <td>Acer rubrum</td>\n",
       "    </tr>\n",
       "    <tr>\n",
       "      <th>2</th>\n",
       "      <td>1961.0</td>\n",
       "      <td>Congo</td>\n",
       "      <td>Yangambi</td>\n",
       "      <td>Esali</td>\n",
       "      <td>Mix</td>\n",
       "      <td>Tropical</td>\n",
       "      <td>Evergreen</td>\n",
       "      <td>Dry</td>\n",
       "      <td>24.4</td>\n",
       "      <td>1875.0</td>\n",
       "      <td>Mix</td>\n",
       "    </tr>\n",
       "    <tr>\n",
       "      <th>3</th>\n",
       "      <td>1961.0</td>\n",
       "      <td>USA</td>\n",
       "      <td>Tennessee</td>\n",
       "      <td>Oak Ridge</td>\n",
       "      <td>Quercus alba</td>\n",
       "      <td>Temperate</td>\n",
       "      <td>Deciduous</td>\n",
       "      <td>Dry</td>\n",
       "      <td>14.0</td>\n",
       "      <td>1500.0</td>\n",
       "      <td>Quercus alba</td>\n",
       "    </tr>\n",
       "    <tr>\n",
       "      <th>4</th>\n",
       "      <td>1962.0</td>\n",
       "      <td>USA</td>\n",
       "      <td>Tennessee</td>\n",
       "      <td>Oak Ridge</td>\n",
       "      <td>Quercus alba</td>\n",
       "      <td>Temperate</td>\n",
       "      <td>Deciduous</td>\n",
       "      <td>Dry</td>\n",
       "      <td>14.0</td>\n",
       "      <td>1500.0</td>\n",
       "      <td>Quercus alba</td>\n",
       "    </tr>\n",
       "  </tbody>\n",
       "</table>\n",
       "</div>"
      ],
      "text/plain": [
       "   Study_midyear Country     Region  Site_name         Species      Biome  \\\n",
       "0         1961.0     USA  Tennessee  Oak Ridge  Pinus echinata  Temperate   \n",
       "1         1961.0     USA  Tennessee  Oak Ridge     Acer rubrum  Temperate   \n",
       "2         1961.0   Congo   Yangambi      Esali             Mix   Tropical   \n",
       "3         1961.0     USA  Tennessee  Oak Ridge    Quercus alba  Temperate   \n",
       "4         1962.0     USA  Tennessee  Oak Ridge    Quercus alba  Temperate   \n",
       "\n",
       "  Leaf_habit Soil_drainage   MAT     MAP Species_traducida  \n",
       "0  Evergreen           Dry  14.0  1500.0    Pinus echinata  \n",
       "1  Deciduous           Dry  14.0  1500.0       Acer rubrum  \n",
       "2  Evergreen           Dry  24.4  1875.0               Mix  \n",
       "3  Deciduous           Dry  14.0  1500.0      Quercus alba  \n",
       "4  Deciduous           Dry  14.0  1500.0      Quercus alba  "
      ]
     },
     "execution_count": 40,
     "metadata": {},
     "output_type": "execute_result"
    }
   ],
   "source": [
    "df.head()"
   ]
  },
  {
   "cell_type": "code",
   "execution_count": 41,
   "metadata": {},
   "outputs": [],
   "source": [
    "df.to_csv(DATADIR_PATH+'/Processed/2_species-trad_srdb-data-V5.csv', index=False)"
   ]
  },
  {
   "cell_type": "code",
   "execution_count": 42,
   "metadata": {},
   "outputs": [
    {
     "data": {
      "text/html": [
       "<div>\n",
       "<style scoped>\n",
       "    .dataframe tbody tr th:only-of-type {\n",
       "        vertical-align: middle;\n",
       "    }\n",
       "\n",
       "    .dataframe tbody tr th {\n",
       "        vertical-align: top;\n",
       "    }\n",
       "\n",
       "    .dataframe thead th {\n",
       "        text-align: right;\n",
       "    }\n",
       "</style>\n",
       "<table border=\"1\" class=\"dataframe\">\n",
       "  <thead>\n",
       "    <tr style=\"text-align: right;\">\n",
       "      <th></th>\n",
       "      <th>Study_midyear</th>\n",
       "      <th>Country</th>\n",
       "      <th>Region</th>\n",
       "      <th>Site_name</th>\n",
       "      <th>Species</th>\n",
       "      <th>Biome</th>\n",
       "      <th>Leaf_habit</th>\n",
       "      <th>Soil_drainage</th>\n",
       "      <th>MAT</th>\n",
       "      <th>MAP</th>\n",
       "      <th>Species_traducida</th>\n",
       "    </tr>\n",
       "  </thead>\n",
       "  <tbody>\n",
       "    <tr>\n",
       "      <th>1780</th>\n",
       "      <td>2006.0</td>\n",
       "      <td>Mexico</td>\n",
       "      <td>Yucatan</td>\n",
       "      <td>El Eden Ecological Preserve</td>\n",
       "      <td>Mix</td>\n",
       "      <td>Tropical</td>\n",
       "      <td>Evergreen</td>\n",
       "      <td>Dry</td>\n",
       "      <td>24.2</td>\n",
       "      <td>1650.0</td>\n",
       "      <td>Mix</td>\n",
       "    </tr>\n",
       "    <tr>\n",
       "      <th>1938</th>\n",
       "      <td>2007.0</td>\n",
       "      <td>Mexico</td>\n",
       "      <td>Yucatan</td>\n",
       "      <td>El Eden Ecological Preserve</td>\n",
       "      <td>Mix</td>\n",
       "      <td>Tropical</td>\n",
       "      <td>Evergreen</td>\n",
       "      <td>Dry</td>\n",
       "      <td>24.2</td>\n",
       "      <td>1650.0</td>\n",
       "      <td>Mix</td>\n",
       "    </tr>\n",
       "    <tr>\n",
       "      <th>2821</th>\n",
       "      <td>2011.0</td>\n",
       "      <td>Mexico</td>\n",
       "      <td>Veracruz</td>\n",
       "      <td>Estero Dulce</td>\n",
       "      <td>Pachira aquatica Aubl</td>\n",
       "      <td>Tropical</td>\n",
       "      <td>Deciduous</td>\n",
       "      <td>Wet</td>\n",
       "      <td>27.0</td>\n",
       "      <td>1425.0</td>\n",
       "      <td>Pachira aquatica Aubl</td>\n",
       "    </tr>\n",
       "    <tr>\n",
       "      <th>2822</th>\n",
       "      <td>2011.0</td>\n",
       "      <td>Mexico</td>\n",
       "      <td>Veracruz</td>\n",
       "      <td>Estero Dulce</td>\n",
       "      <td>Thalia geniculata L.,</td>\n",
       "      <td>Tropical</td>\n",
       "      <td>Deciduous</td>\n",
       "      <td>Wet</td>\n",
       "      <td>27.0</td>\n",
       "      <td>1425.0</td>\n",
       "      <td>Thalia geniculata L.,</td>\n",
       "    </tr>\n",
       "    <tr>\n",
       "      <th>2823</th>\n",
       "      <td>2011.0</td>\n",
       "      <td>Mexico</td>\n",
       "      <td>Veracruz</td>\n",
       "      <td>Laguna Chica</td>\n",
       "      <td>Pachira aquatica Aubl</td>\n",
       "      <td>Tropical</td>\n",
       "      <td>Deciduous</td>\n",
       "      <td>Wet</td>\n",
       "      <td>27.0</td>\n",
       "      <td>1425.0</td>\n",
       "      <td>Pachira aquatica Aubl</td>\n",
       "    </tr>\n",
       "    <tr>\n",
       "      <th>2824</th>\n",
       "      <td>2011.0</td>\n",
       "      <td>Mexico</td>\n",
       "      <td>Veracruz</td>\n",
       "      <td>Laguna Chica</td>\n",
       "      <td>Cyperus giganteus</td>\n",
       "      <td>Tropical</td>\n",
       "      <td>Deciduous</td>\n",
       "      <td>Wet</td>\n",
       "      <td>27.0</td>\n",
       "      <td>1425.0</td>\n",
       "      <td>Cyperus giganteus</td>\n",
       "    </tr>\n",
       "    <tr>\n",
       "      <th>2825</th>\n",
       "      <td>2011.0</td>\n",
       "      <td>Mexico</td>\n",
       "      <td>Veracruz</td>\n",
       "      <td>Boquilla de Oro</td>\n",
       "      <td>Ficus insipida</td>\n",
       "      <td>Tropical</td>\n",
       "      <td>Deciduous</td>\n",
       "      <td>Wet</td>\n",
       "      <td>27.0</td>\n",
       "      <td>1425.0</td>\n",
       "      <td>Ficus insipida</td>\n",
       "    </tr>\n",
       "    <tr>\n",
       "      <th>2826</th>\n",
       "      <td>2011.0</td>\n",
       "      <td>Mexico</td>\n",
       "      <td>Veracruz</td>\n",
       "      <td>Boquilla de Oro</td>\n",
       "      <td>Pontederia sagittata</td>\n",
       "      <td>Tropical</td>\n",
       "      <td>Deciduous</td>\n",
       "      <td>Wet</td>\n",
       "      <td>27.0</td>\n",
       "      <td>1425.0</td>\n",
       "      <td>Pontederia sagittata</td>\n",
       "    </tr>\n",
       "  </tbody>\n",
       "</table>\n",
       "</div>"
      ],
      "text/plain": [
       "      Study_midyear Country    Region                    Site_name  \\\n",
       "1780         2006.0  Mexico   Yucatan  El Eden Ecological Preserve   \n",
       "1938         2007.0  Mexico   Yucatan  El Eden Ecological Preserve   \n",
       "2821         2011.0  Mexico  Veracruz                 Estero Dulce   \n",
       "2822         2011.0  Mexico  Veracruz                 Estero Dulce   \n",
       "2823         2011.0  Mexico  Veracruz                 Laguna Chica   \n",
       "2824         2011.0  Mexico  Veracruz                 Laguna Chica   \n",
       "2825         2011.0  Mexico  Veracruz              Boquilla de Oro   \n",
       "2826         2011.0  Mexico  Veracruz              Boquilla de Oro   \n",
       "\n",
       "                    Species     Biome Leaf_habit Soil_drainage   MAT     MAP  \\\n",
       "1780                    Mix  Tropical  Evergreen           Dry  24.2  1650.0   \n",
       "1938                    Mix  Tropical  Evergreen           Dry  24.2  1650.0   \n",
       "2821  Pachira aquatica Aubl  Tropical  Deciduous           Wet  27.0  1425.0   \n",
       "2822  Thalia geniculata L.,  Tropical  Deciduous           Wet  27.0  1425.0   \n",
       "2823  Pachira aquatica Aubl  Tropical  Deciduous           Wet  27.0  1425.0   \n",
       "2824      Cyperus giganteus  Tropical  Deciduous           Wet  27.0  1425.0   \n",
       "2825         Ficus insipida  Tropical  Deciduous           Wet  27.0  1425.0   \n",
       "2826   Pontederia sagittata  Tropical  Deciduous           Wet  27.0  1425.0   \n",
       "\n",
       "          Species_traducida  \n",
       "1780                    Mix  \n",
       "1938                    Mix  \n",
       "2821  Pachira aquatica Aubl  \n",
       "2822  Thalia geniculata L.,  \n",
       "2823  Pachira aquatica Aubl  \n",
       "2824      Cyperus giganteus  \n",
       "2825         Ficus insipida  \n",
       "2826   Pontederia sagittata  "
      ]
     },
     "execution_count": 42,
     "metadata": {},
     "output_type": "execute_result"
    }
   ],
   "source": [
    "df[df['Country'] == 'Mexico']"
   ]
  },
  {
   "cell_type": "code",
   "execution_count": 43,
   "metadata": {},
   "outputs": [],
   "source": [
    "# Definir las funciones de agregación personalizadas\n",
    "agg_funcs = {\n",
    "    'Country': 'first',\n",
    "    'Region': 'first',\n",
    "    'Study_midyear': 'first',\n",
    "    'Site_name': 'first',\n",
    "    'Species': lambda x: ', '.join(x.unique()),\n",
    "    'Biome': 'first',\n",
    "    'Leaf_habit': 'first',\n",
    "    'Soil_drainage': 'first',\n",
    "    'MAT': 'mean',\n",
    "    'MAP': 'mean'\n",
    "}\n",
    "\n",
    "# Agrupar por 'Site_name' y 'Study_midyear' y aplicar las funciones de agregación\n",
    "grouped_df = df.groupby(['Site_name', 'Study_midyear']).agg(agg_funcs).reset_index(drop=True)\n",
    "\n",
    "# Exportar los datos\n",
    "grouped_df.to_csv(DATADIR_PATH+'/Processed/2_grouped-no-trad_srdb-data-V5.csv', index=False)\n"
   ]
  },
  {
   "cell_type": "markdown",
   "metadata": {},
   "source": [
    "### Comparamos \n",
    "\n",
    "df agrupado: "
   ]
  },
  {
   "cell_type": "code",
   "execution_count": 44,
   "metadata": {},
   "outputs": [
    {
     "data": {
      "text/html": [
       "<div>\n",
       "<style scoped>\n",
       "    .dataframe tbody tr th:only-of-type {\n",
       "        vertical-align: middle;\n",
       "    }\n",
       "\n",
       "    .dataframe tbody tr th {\n",
       "        vertical-align: top;\n",
       "    }\n",
       "\n",
       "    .dataframe thead th {\n",
       "        text-align: right;\n",
       "    }\n",
       "</style>\n",
       "<table border=\"1\" class=\"dataframe\">\n",
       "  <thead>\n",
       "    <tr style=\"text-align: right;\">\n",
       "      <th></th>\n",
       "      <th>Country</th>\n",
       "      <th>Region</th>\n",
       "      <th>Study_midyear</th>\n",
       "      <th>Site_name</th>\n",
       "      <th>Species</th>\n",
       "      <th>Biome</th>\n",
       "      <th>Leaf_habit</th>\n",
       "      <th>Soil_drainage</th>\n",
       "      <th>MAT</th>\n",
       "      <th>MAP</th>\n",
       "    </tr>\n",
       "  </thead>\n",
       "  <tbody>\n",
       "    <tr>\n",
       "      <th>205</th>\n",
       "      <td>Mexico</td>\n",
       "      <td>Veracruz</td>\n",
       "      <td>2011.0</td>\n",
       "      <td>Boquilla de Oro</td>\n",
       "      <td>Ficus insipida, Pontederia sagittata</td>\n",
       "      <td>Tropical</td>\n",
       "      <td>Deciduous</td>\n",
       "      <td>Wet</td>\n",
       "      <td>27.0</td>\n",
       "      <td>1425.0</td>\n",
       "    </tr>\n",
       "    <tr>\n",
       "      <th>510</th>\n",
       "      <td>Mexico</td>\n",
       "      <td>Yucatan</td>\n",
       "      <td>2006.0</td>\n",
       "      <td>El Eden Ecological Preserve</td>\n",
       "      <td>Mix</td>\n",
       "      <td>Tropical</td>\n",
       "      <td>Evergreen</td>\n",
       "      <td>Dry</td>\n",
       "      <td>24.2</td>\n",
       "      <td>1650.0</td>\n",
       "    </tr>\n",
       "    <tr>\n",
       "      <th>511</th>\n",
       "      <td>Mexico</td>\n",
       "      <td>Yucatan</td>\n",
       "      <td>2007.0</td>\n",
       "      <td>El Eden Ecological Preserve</td>\n",
       "      <td>Mix</td>\n",
       "      <td>Tropical</td>\n",
       "      <td>Evergreen</td>\n",
       "      <td>Dry</td>\n",
       "      <td>24.2</td>\n",
       "      <td>1650.0</td>\n",
       "    </tr>\n",
       "    <tr>\n",
       "      <th>519</th>\n",
       "      <td>Mexico</td>\n",
       "      <td>Veracruz</td>\n",
       "      <td>2011.0</td>\n",
       "      <td>Estero Dulce</td>\n",
       "      <td>Pachira aquatica Aubl, Thalia geniculata L.,</td>\n",
       "      <td>Tropical</td>\n",
       "      <td>Deciduous</td>\n",
       "      <td>Wet</td>\n",
       "      <td>27.0</td>\n",
       "      <td>1425.0</td>\n",
       "    </tr>\n",
       "    <tr>\n",
       "      <th>962</th>\n",
       "      <td>Mexico</td>\n",
       "      <td>Veracruz</td>\n",
       "      <td>2011.0</td>\n",
       "      <td>Laguna Chica</td>\n",
       "      <td>Pachira aquatica Aubl, Cyperus giganteus</td>\n",
       "      <td>Tropical</td>\n",
       "      <td>Deciduous</td>\n",
       "      <td>Wet</td>\n",
       "      <td>27.0</td>\n",
       "      <td>1425.0</td>\n",
       "    </tr>\n",
       "  </tbody>\n",
       "</table>\n",
       "</div>"
      ],
      "text/plain": [
       "    Country    Region  Study_midyear                    Site_name  \\\n",
       "205  Mexico  Veracruz         2011.0              Boquilla de Oro   \n",
       "510  Mexico   Yucatan         2006.0  El Eden Ecological Preserve   \n",
       "511  Mexico   Yucatan         2007.0  El Eden Ecological Preserve   \n",
       "519  Mexico  Veracruz         2011.0                 Estero Dulce   \n",
       "962  Mexico  Veracruz         2011.0                 Laguna Chica   \n",
       "\n",
       "                                          Species     Biome Leaf_habit  \\\n",
       "205          Ficus insipida, Pontederia sagittata  Tropical  Deciduous   \n",
       "510                                           Mix  Tropical  Evergreen   \n",
       "511                                           Mix  Tropical  Evergreen   \n",
       "519  Pachira aquatica Aubl, Thalia geniculata L.,  Tropical  Deciduous   \n",
       "962      Pachira aquatica Aubl, Cyperus giganteus  Tropical  Deciduous   \n",
       "\n",
       "    Soil_drainage   MAT     MAP  \n",
       "205           Wet  27.0  1425.0  \n",
       "510           Dry  24.2  1650.0  \n",
       "511           Dry  24.2  1650.0  \n",
       "519           Wet  27.0  1425.0  \n",
       "962           Wet  27.0  1425.0  "
      ]
     },
     "execution_count": 44,
     "metadata": {},
     "output_type": "execute_result"
    }
   ],
   "source": [
    "grouped_df[grouped_df['Country'] == 'Mexico']"
   ]
  },
  {
   "cell_type": "markdown",
   "metadata": {},
   "source": [
    "df sin agrupar: "
   ]
  },
  {
   "cell_type": "code",
   "execution_count": 45,
   "metadata": {},
   "outputs": [
    {
     "data": {
      "text/html": [
       "<div>\n",
       "<style scoped>\n",
       "    .dataframe tbody tr th:only-of-type {\n",
       "        vertical-align: middle;\n",
       "    }\n",
       "\n",
       "    .dataframe tbody tr th {\n",
       "        vertical-align: top;\n",
       "    }\n",
       "\n",
       "    .dataframe thead th {\n",
       "        text-align: right;\n",
       "    }\n",
       "</style>\n",
       "<table border=\"1\" class=\"dataframe\">\n",
       "  <thead>\n",
       "    <tr style=\"text-align: right;\">\n",
       "      <th></th>\n",
       "      <th>Study_midyear</th>\n",
       "      <th>Country</th>\n",
       "      <th>Region</th>\n",
       "      <th>Site_name</th>\n",
       "      <th>Species</th>\n",
       "      <th>Biome</th>\n",
       "      <th>Leaf_habit</th>\n",
       "      <th>Soil_drainage</th>\n",
       "      <th>MAT</th>\n",
       "      <th>MAP</th>\n",
       "      <th>Species_traducida</th>\n",
       "    </tr>\n",
       "  </thead>\n",
       "  <tbody>\n",
       "    <tr>\n",
       "      <th>1780</th>\n",
       "      <td>2006.0</td>\n",
       "      <td>Mexico</td>\n",
       "      <td>Yucatan</td>\n",
       "      <td>El Eden Ecological Preserve</td>\n",
       "      <td>Mix</td>\n",
       "      <td>Tropical</td>\n",
       "      <td>Evergreen</td>\n",
       "      <td>Dry</td>\n",
       "      <td>24.2</td>\n",
       "      <td>1650.0</td>\n",
       "      <td>Mix</td>\n",
       "    </tr>\n",
       "    <tr>\n",
       "      <th>1938</th>\n",
       "      <td>2007.0</td>\n",
       "      <td>Mexico</td>\n",
       "      <td>Yucatan</td>\n",
       "      <td>El Eden Ecological Preserve</td>\n",
       "      <td>Mix</td>\n",
       "      <td>Tropical</td>\n",
       "      <td>Evergreen</td>\n",
       "      <td>Dry</td>\n",
       "      <td>24.2</td>\n",
       "      <td>1650.0</td>\n",
       "      <td>Mix</td>\n",
       "    </tr>\n",
       "    <tr>\n",
       "      <th>2821</th>\n",
       "      <td>2011.0</td>\n",
       "      <td>Mexico</td>\n",
       "      <td>Veracruz</td>\n",
       "      <td>Estero Dulce</td>\n",
       "      <td>Pachira aquatica Aubl</td>\n",
       "      <td>Tropical</td>\n",
       "      <td>Deciduous</td>\n",
       "      <td>Wet</td>\n",
       "      <td>27.0</td>\n",
       "      <td>1425.0</td>\n",
       "      <td>Pachira aquatica Aubl</td>\n",
       "    </tr>\n",
       "    <tr>\n",
       "      <th>2822</th>\n",
       "      <td>2011.0</td>\n",
       "      <td>Mexico</td>\n",
       "      <td>Veracruz</td>\n",
       "      <td>Estero Dulce</td>\n",
       "      <td>Thalia geniculata L.,</td>\n",
       "      <td>Tropical</td>\n",
       "      <td>Deciduous</td>\n",
       "      <td>Wet</td>\n",
       "      <td>27.0</td>\n",
       "      <td>1425.0</td>\n",
       "      <td>Thalia geniculata L.,</td>\n",
       "    </tr>\n",
       "    <tr>\n",
       "      <th>2823</th>\n",
       "      <td>2011.0</td>\n",
       "      <td>Mexico</td>\n",
       "      <td>Veracruz</td>\n",
       "      <td>Laguna Chica</td>\n",
       "      <td>Pachira aquatica Aubl</td>\n",
       "      <td>Tropical</td>\n",
       "      <td>Deciduous</td>\n",
       "      <td>Wet</td>\n",
       "      <td>27.0</td>\n",
       "      <td>1425.0</td>\n",
       "      <td>Pachira aquatica Aubl</td>\n",
       "    </tr>\n",
       "    <tr>\n",
       "      <th>2824</th>\n",
       "      <td>2011.0</td>\n",
       "      <td>Mexico</td>\n",
       "      <td>Veracruz</td>\n",
       "      <td>Laguna Chica</td>\n",
       "      <td>Cyperus giganteus</td>\n",
       "      <td>Tropical</td>\n",
       "      <td>Deciduous</td>\n",
       "      <td>Wet</td>\n",
       "      <td>27.0</td>\n",
       "      <td>1425.0</td>\n",
       "      <td>Cyperus giganteus</td>\n",
       "    </tr>\n",
       "    <tr>\n",
       "      <th>2825</th>\n",
       "      <td>2011.0</td>\n",
       "      <td>Mexico</td>\n",
       "      <td>Veracruz</td>\n",
       "      <td>Boquilla de Oro</td>\n",
       "      <td>Ficus insipida</td>\n",
       "      <td>Tropical</td>\n",
       "      <td>Deciduous</td>\n",
       "      <td>Wet</td>\n",
       "      <td>27.0</td>\n",
       "      <td>1425.0</td>\n",
       "      <td>Ficus insipida</td>\n",
       "    </tr>\n",
       "    <tr>\n",
       "      <th>2826</th>\n",
       "      <td>2011.0</td>\n",
       "      <td>Mexico</td>\n",
       "      <td>Veracruz</td>\n",
       "      <td>Boquilla de Oro</td>\n",
       "      <td>Pontederia sagittata</td>\n",
       "      <td>Tropical</td>\n",
       "      <td>Deciduous</td>\n",
       "      <td>Wet</td>\n",
       "      <td>27.0</td>\n",
       "      <td>1425.0</td>\n",
       "      <td>Pontederia sagittata</td>\n",
       "    </tr>\n",
       "  </tbody>\n",
       "</table>\n",
       "</div>"
      ],
      "text/plain": [
       "      Study_midyear Country    Region                    Site_name  \\\n",
       "1780         2006.0  Mexico   Yucatan  El Eden Ecological Preserve   \n",
       "1938         2007.0  Mexico   Yucatan  El Eden Ecological Preserve   \n",
       "2821         2011.0  Mexico  Veracruz                 Estero Dulce   \n",
       "2822         2011.0  Mexico  Veracruz                 Estero Dulce   \n",
       "2823         2011.0  Mexico  Veracruz                 Laguna Chica   \n",
       "2824         2011.0  Mexico  Veracruz                 Laguna Chica   \n",
       "2825         2011.0  Mexico  Veracruz              Boquilla de Oro   \n",
       "2826         2011.0  Mexico  Veracruz              Boquilla de Oro   \n",
       "\n",
       "                    Species     Biome Leaf_habit Soil_drainage   MAT     MAP  \\\n",
       "1780                    Mix  Tropical  Evergreen           Dry  24.2  1650.0   \n",
       "1938                    Mix  Tropical  Evergreen           Dry  24.2  1650.0   \n",
       "2821  Pachira aquatica Aubl  Tropical  Deciduous           Wet  27.0  1425.0   \n",
       "2822  Thalia geniculata L.,  Tropical  Deciduous           Wet  27.0  1425.0   \n",
       "2823  Pachira aquatica Aubl  Tropical  Deciduous           Wet  27.0  1425.0   \n",
       "2824      Cyperus giganteus  Tropical  Deciduous           Wet  27.0  1425.0   \n",
       "2825         Ficus insipida  Tropical  Deciduous           Wet  27.0  1425.0   \n",
       "2826   Pontederia sagittata  Tropical  Deciduous           Wet  27.0  1425.0   \n",
       "\n",
       "          Species_traducida  \n",
       "1780                    Mix  \n",
       "1938                    Mix  \n",
       "2821  Pachira aquatica Aubl  \n",
       "2822  Thalia geniculata L.,  \n",
       "2823  Pachira aquatica Aubl  \n",
       "2824      Cyperus giganteus  \n",
       "2825         Ficus insipida  \n",
       "2826   Pontederia sagittata  "
      ]
     },
     "execution_count": 45,
     "metadata": {},
     "output_type": "execute_result"
    }
   ],
   "source": [
    "df[df['Country'] == 'Mexico']"
   ]
  },
  {
   "cell_type": "markdown",
   "metadata": {},
   "source": [
    "### Nos quedamos con las que tengan cierto numero de \"CONDICION\""
   ]
  },
  {
   "cell_type": "code",
   "execution_count": 46,
   "metadata": {},
   "outputs": [],
   "source": [
    "CONDICION = 'Region'"
   ]
  },
  {
   "cell_type": "code",
   "execution_count": 47,
   "metadata": {},
   "outputs": [
    {
     "data": {
      "text/plain": [
       "Region\n",
       "Massachusetts      True\n",
       "Inner Mongolia     True\n",
       "Ontario            True\n",
       "Shaanxi            True\n",
       "North Carolina     True\n",
       "                  ...  \n",
       "Gelderland        False\n",
       "Carlow            False\n",
       "Gifu              False\n",
       "Cologne           False\n",
       "Borneo            False\n",
       "Name: count, Length: 297, dtype: bool"
      ]
     },
     "execution_count": 47,
     "metadata": {},
     "output_type": "execute_result"
    }
   ],
   "source": [
    "df[CONDICION].value_counts() > 5"
   ]
  },
  {
   "cell_type": "code",
   "execution_count": 48,
   "metadata": {},
   "outputs": [
    {
     "data": {
      "text/plain": [
       "array(['Tennessee', 'England', 'Minnesota', 'Amazonas', 'Missouri',\n",
       "       'South Carolina', 'Saskatchewan', 'Alaska', 'Utah', 'Oklahoma',\n",
       "       'North Carolina', 'Oregon', 'Washington', 'New Mexico',\n",
       "       'Massachusetts', 'Ontario', 'Florida', 'Puerto Rico', 'Haryana',\n",
       "       'Michigan', 'California', 'Quebec', 'Kansas', 'Georgia', 'Hawaii',\n",
       "       'Wisconsin', 'Scotland', 'Rondondia', 'Texas', 'Maine', 'New York',\n",
       "       'Beijing', 'Ohio', 'Manitoba', 'Arizona', 'Alberta', 'Artvin',\n",
       "       'Indiana', 'Greenland', 'Montana', 'Iowa', 'Québec',\n",
       "       'Kanchanaburi', 'Shannxi', 'North Dakota', 'Inner Mongolia',\n",
       "       'Tibet', 'Colorado', 'British Columbia', 'Jiangxi', 'Solling',\n",
       "       'Qinghai', 'Virginia', 'Wyoming', 'NE Wales', 'Nova Scotia',\n",
       "       'Guangdong', 'Lampang', 'Pará', 'Fujian', 'Henan', 'Jilin',\n",
       "       'Zomba', 'Agro-Environmental Sciences station', 'Sichuan',\n",
       "       'South Dakota', 'Nebraska', 'Yunnan', 'Mato Grosso', 'Hunan',\n",
       "       'Kannus', 'Shandong', 'Jiangsu', 'Caribbean lowlands', 'Gansu',\n",
       "       'Guangzhou', 'Gyeonggido', 'Hokkaido', 'Heilongjiang', 'Hubei',\n",
       "       'Liaoning', 'Hebei', 'Shanxi', 'Yamanashi', 'Shaanxi', 'Bavaria',\n",
       "       'Xinjiang', 'Sokolov', 'Zhejiang', 'Manaus', 'Western', 'Nanjing',\n",
       "       'Nasu', 'Western Province', 'Sicily', 'Alt Empordà',\n",
       "       'Hebei Province', 'Waikato', 'Şanlıurfa', 'North Island',\n",
       "       'Shanghai', 'Tibetan Plateau', 'Guangxi', 'Northern Mongolia',\n",
       "       'Dalbay', 'Xinjiang Province', 'Madrid', 'Xinjiang Uygur',\n",
       "       'Dinghuashan', 'Hunan Forest Botanic Garden', 'Sardinia',\n",
       "       'Alabama', 'Zackenberg', 'Xinjiang Uygar Autonomous Region',\n",
       "       'Qinghai Province', 'Seoul', 'Arkansas', 'Veracruz',\n",
       "       'Central-eastern', 'Ferrand', 'Ningxia', 'Northeast Puerto Rico',\n",
       "       'Inner Mongolia Autonomous Region', 'Mongolia', 'Henan Province',\n",
       "       'Santa-Cruz Province', 'Anantnag', 'Northeastern ', 'Anhui',\n",
       "       'Barcelona', 'Hokkaido University', 'Central Kalimantan',\n",
       "       'Yangtze River source', 'Swiss Alps', 'Sichuan basin',\n",
       "       'Jaboticabal', 'Nadym', 'Jambi', 'Northern Tibet',\n",
       "       'Central Kalimantan Province', 'Qinghai-Tibetan Plateau', 'Moscow',\n",
       "       'Jinju', 'Para', 'Aral', 'Kericho'], dtype=object)"
      ]
     },
     "execution_count": 48,
     "metadata": {},
     "output_type": "execute_result"
    }
   ],
   "source": [
    "# Contar las ocurrencias de cada país\n",
    "country_counts = df[CONDICION].value_counts()\n",
    "\n",
    "# Filtrar los países que tienen más de 100 ocurrencias\n",
    "countries_to_keep = country_counts[country_counts > 5].index\n",
    "\n",
    "# Filtrar el DataFrame original para mantener solo esos países\n",
    "filtered_df = df[df[CONDICION].isin(countries_to_keep)]\n",
    "\n",
    "filtered_df[CONDICION].unique()"
   ]
  },
  {
   "cell_type": "code",
   "execution_count": 49,
   "metadata": {},
   "outputs": [
    {
     "data": {
      "text/plain": [
       "Region\n",
       "Massachusetts     157\n",
       "Inner Mongolia    129\n",
       "Ontario           122\n",
       "Shaanxi           110\n",
       "North Carolina    102\n",
       "                 ... \n",
       "Şanlıurfa          6\n",
       "Sicily              6\n",
       "Nasu                6\n",
       "Nanjing             6\n",
       "Kericho             6\n",
       "Name: count, Length: 146, dtype: int64"
      ]
     },
     "execution_count": 49,
     "metadata": {},
     "output_type": "execute_result"
    }
   ],
   "source": [
    "filtered_df[CONDICION].value_counts()"
   ]
  },
  {
   "cell_type": "code",
   "execution_count": 50,
   "metadata": {},
   "outputs": [
    {
     "name": "stdout",
     "output_type": "stream",
     "text": [
      "Country\n",
      "USA               680\n",
      "China             514\n",
      "Canada            156\n",
      "Germany            50\n",
      "Brazil             43\n",
      "Japan              34\n",
      "Spain              19\n",
      "UK                 17\n",
      "Czech Republic     16\n",
      "Finland            16\n",
      "Name: count, dtype: int64\n"
     ]
    }
   ],
   "source": [
    "# Obtener el conteo de ocurrencias de cada país\n",
    "country_counts = grouped_df['Country'].value_counts()\n",
    "\n",
    "# Mostrar el top de países con el número de ocurrencias\n",
    "top_countries = country_counts.head(10)  # Puedes ajustar el número de países en el top\n",
    "\n",
    "print(top_countries)"
   ]
  },
  {
   "cell_type": "code",
   "execution_count": 51,
   "metadata": {},
   "outputs": [
    {
     "data": {
      "text/plain": [
       "680"
      ]
     },
     "execution_count": 51,
     "metadata": {},
     "output_type": "execute_result"
    }
   ],
   "source": [
    "grouped_df[grouped_df['Country'] == 'USA']['Study_midyear'].count()"
   ]
  },
  {
   "cell_type": "code",
   "execution_count": null,
   "metadata": {},
   "outputs": [],
   "source": []
  },
  {
   "cell_type": "code",
   "execution_count": null,
   "metadata": {},
   "outputs": [],
   "source": []
  }
 ],
 "metadata": {
  "kernelspec": {
   "display_name": "Python 3",
   "language": "python",
   "name": "python3"
  },
  "language_info": {
   "codemirror_mode": {
    "name": "ipython",
    "version": 3
   },
   "file_extension": ".py",
   "mimetype": "text/x-python",
   "name": "python",
   "nbconvert_exporter": "python",
   "pygments_lexer": "ipython3",
   "version": "3.10.12"
  }
 },
 "nbformat": 4,
 "nbformat_minor": 2
}
